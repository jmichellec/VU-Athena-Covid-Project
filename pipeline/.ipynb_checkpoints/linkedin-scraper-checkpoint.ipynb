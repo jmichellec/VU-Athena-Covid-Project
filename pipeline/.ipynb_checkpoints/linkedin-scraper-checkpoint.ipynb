{
 "cells": [
  {
   "cell_type": "code",
   "execution_count": 1,
   "id": "greatest-regular",
   "metadata": {},
   "outputs": [
    {
     "name": "stdout",
     "output_type": "stream",
     "text": [
      "Starting DataKund...\n"
     ]
    }
   ],
   "source": [
    "from bot_studio import *"
   ]
  },
  {
   "cell_type": "code",
   "execution_count": 2,
   "id": "monetary-bosnia",
   "metadata": {},
   "outputs": [],
   "source": [
    "linkedin = bot_studio.linkedin()"
   ]
  },
  {
   "cell_type": "code",
   "execution_count": 3,
   "id": "welsh-robert",
   "metadata": {},
   "outputs": [
    {
     "name": "stderr",
     "output_type": "stream",
     "text": [
      "\r",
      "Progress:   0%|          | 0/200 [00:00<?, ?it/s]"
     ]
    },
    {
     "data": {
      "text/plain": [
       "{'body': {}, 'errors': [], 'success_score': '100'}"
      ]
     },
     "execution_count": 3,
     "metadata": {},
     "output_type": "execute_result"
    },
    {
     "name": "stderr",
     "output_type": "stream",
     "text": [
      "Progress: 100%|██████████| 200.0/200 [00:06<00:00, 33.10it/s]             \n"
     ]
    }
   ],
   "source": [
    "linkedin.login(username=\"tobiaspsv@hotmail.nl\",password=\"belgenzijndom\")"
   ]
  },
  {
   "cell_type": "code",
   "execution_count": 5,
   "id": "interested-worker",
   "metadata": {},
   "outputs": [
    {
     "name": "stderr",
     "output_type": "stream",
     "text": [
      "Progress:  71%|███████▏  | 142.85714285714286/200 [00:58<00:27,  2.08it/s]"
     ]
    },
    {
     "data": {
      "text/plain": [
       "{'body': {}, 'errors': [], 'success_score': '71'}"
      ]
     },
     "execution_count": 5,
     "metadata": {},
     "output_type": "execute_result"
    },
    {
     "name": "stderr",
     "output_type": "stream",
     "text": [
      "Progress: 100%|██████████| 200.0/200 [01:40<00:00,  1.99it/s]             \n"
     ]
    }
   ],
   "source": [
    "linkedin.search_posts(keyword='Hr manager')"
   ]
  },
  {
   "cell_type": "code",
   "execution_count": 5,
   "id": "embedded-creativity",
   "metadata": {},
   "outputs": [
    {
     "name": "stderr",
     "output_type": "stream",
     "text": [
      "Progress: 100%|██████████| 200.0/200 [01:28<00:00,  2.26it/s]             \n",
      "Progress: 100%|██████████| 200.0/200 [00:04<00:00, 49.23it/s]\n"
     ]
    }
   ],
   "source": [
    "response=linkedin.posts_results()\n",
    "data=response['body']"
   ]
  },
  {
   "cell_type": "code",
   "execution_count": 6,
   "id": "continent-liberty",
   "metadata": {},
   "outputs": [
    {
     "data": {
      "text/plain": [
       "[{'User Link': '/feed/'},\n",
       " {'User Link': '/mynetwork/'},\n",
       " {'User Link': '/jobs/'},\n",
       " {'User Link': '/messaging/'},\n",
       " {'User Link': '/notifications/'},\n",
       " {'User Link': 'https://www.linkedin.com/premium/products?upsellOrderOrigin=premium_nav_upsell_text&destRedirectURL=https%3A%2F%2Fwww.linkedin.com%2Ffeed%2F%3FshowPremiumWelcomeBanner%3Dtrue'},\n",
       " {'Post Text': '\\nUw netwerk uitbreiden', 'User Link': '/mynetwork/'},\n",
       " {'Post Text': '\\nDe 25 Top Companies van 2021',\n",
       "  'User Link': '/news/story/de-25-top-companies-van-2021-5047116/'},\n",
       " {'Post Text': '\\nJe bedrijf verkopen via Zoom',\n",
       "  'User Link': '/news/story/je-bedrijf-verkopen-via-zoom-5047132/'},\n",
       " {'Post Text': \"\\nZo heet dat 'blah'-gevoel\",\n",
       "  'User Link': '/news/story/zo-heet-dat-blah-gevoel-5047764/'},\n",
       " {'Post Text': '\\nCoronavirus/vaccin: actuele updates',\n",
       "  'User Link': '/news/story/coronavirusvaccin-actuele-updates-4291193/'},\n",
       " {'User Link': '/news/story/hm-test-uitleen-sollicitatie-outfits-5053316/'},\n",
       " {'User Link': '/news/story/tutoyeren-in-je-sollicitatiebrief-5050580/'},\n",
       " {'User Link': '/news/story/twijfels-bij-faillissement-kijkshop-5048652/'},\n",
       " {'User Link': '/news/story/nepmail-kost-bolcom-750000-5048644/'},\n",
       " {'User Link': '/news/story/waarom-huizen-zo-duur-zijn-5053428/'},\n",
       " {'User Link': '/news/story/welkom-in-de-yolo-economie-5051372/'},\n",
       " {'User Link': 'https://about.linkedin.com'},\n",
       " {'User Link': 'https://www.linkedin.com/accessibility'},\n",
       " {'User Link': 'https://www.linkedin.com//help/linkedin?trk=footer_d_flagship3_feed'},\n",
       " {'User Link': 'https://www.linkedin.com/help/linkedin/answer/62931'},\n",
       " {'User Link': 'https://www.linkedin.com/ad/start?trk=n_nav_ads_rr'},\n",
       " {'Post Text': ''}]"
      ]
     },
     "execution_count": 6,
     "metadata": {},
     "output_type": "execute_result"
    }
   ],
   "source": [
    "data"
   ]
  }
 ],
 "metadata": {
  "kernelspec": {
   "display_name": "Python 3",
   "language": "python",
   "name": "python3"
  },
  "language_info": {
   "codemirror_mode": {
    "name": "ipython",
    "version": 3
   },
   "file_extension": ".py",
   "mimetype": "text/x-python",
   "name": "python",
   "nbconvert_exporter": "python",
   "pygments_lexer": "ipython3",
   "version": "3.7.9"
  }
 },
 "nbformat": 4,
 "nbformat_minor": 5
}
